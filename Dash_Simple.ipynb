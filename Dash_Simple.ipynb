{
 "cells": [
  {
   "cell_type": "code",
   "execution_count": 1,
   "metadata": {},
   "outputs": [],
   "source": [
    "# import dependencies\n",
    "\n",
    "import pandas as pd\n",
    "import numpy as np\n",
    "import matplotlib as plt\n",
    "import plotly.express as px\n",
    "import plotly.graph_objects as go\n",
    "import datetime as dt\n",
    "import plotly as py\n",
    "import plotly.tools as tls\n",
    "import dash\n",
    "from jupyter_dash import JupyterDash\n",
    "import dash_core_components as dcc\n",
    "import dash_html_components as html\n",
    "from dash.dependencies import Input, Output, State\n",
    "import datetime as dt"
   ]
  },
  {
   "cell_type": "code",
   "execution_count": 2,
   "metadata": {},
   "outputs": [],
   "source": [
    "app = dash.Dash()"
   ]
  },
  {
   "cell_type": "code",
   "execution_count": 3,
   "metadata": {},
   "outputs": [],
   "source": [
    "app.layout = html.Div([\n",
    "    \n",
    "    dcc.Dropdown(\n",
    "         id = 'first-dropdown',\n",
    "    options = [\n",
    "        {'label' : 'San Fransisco', 'value' : 'SF'},\n",
    "        {'label' : 'New York', 'value' : 'NYC'},\n",
    "        {'label' : 'Raleigh Durham', 'value' : 'RDU'}\n",
    "    ],\n",
    "    value = 'NYC'        \n",
    "   \n",
    "    )\n",
    "])"
   ]
  },
  {
   "cell_type": "code",
   "execution_count": null,
   "metadata": {},
   "outputs": [],
   "source": []
  },
  {
   "cell_type": "code",
   "execution_count": null,
   "metadata": {},
   "outputs": [],
   "source": []
  },
  {
   "cell_type": "code",
   "execution_count": null,
   "metadata": {},
   "outputs": [
    {
     "name": "stdout",
     "output_type": "stream",
     "text": [
      "Dash is running on http://127.0.0.1:8050/\n",
      "\n",
      " * Serving Flask app \"__main__\" (lazy loading)\n",
      " * Environment: production\n",
      "   WARNING: This is a development server. Do not use it in a production deployment.\n",
      "   Use a production WSGI server instead.\n",
      " * Debug mode: off\n"
     ]
    },
    {
     "name": "stderr",
     "output_type": "stream",
     "text": [
      " * Running on http://127.0.0.1:8050/ (Press CTRL+C to quit)\n",
      "127.0.0.1 - - [01/Jul/2021 10:24:14] \"\u001b[37mGET / HTTP/1.1\u001b[0m\" 200 -\n",
      "127.0.0.1 - - [01/Jul/2021 10:24:14] \"\u001b[37mGET /_dash-layout HTTP/1.1\u001b[0m\" 200 -\n",
      "127.0.0.1 - - [01/Jul/2021 10:24:14] \"\u001b[37mGET /_dash-dependencies HTTP/1.1\u001b[0m\" 200 -\n",
      "127.0.0.1 - - [01/Jul/2021 10:24:14] \"\u001b[37mGET /_dash-component-suites/dash_core_components/async-dropdown.v1_15_0m1611086576.js HTTP/1.1\u001b[0m\" 200 -\n",
      "127.0.0.1 - - [01/Jul/2021 10:24:27] \"\u001b[37mGET /_shutdown_fc103718-11ff-473c-8e8a-5e8f7938554a HTTP/1.1\u001b[0m\" 200 -\n",
      "127.0.0.1 - - [01/Jul/2021 10:24:27] \"\u001b[37mGET /_alive_fc103718-11ff-473c-8e8a-5e8f7938554a HTTP/1.1\u001b[0m\" 200 -\n",
      "127.0.0.1 - - [01/Jul/2021 10:24:27] \"\u001b[37mGET /_alive_fc103718-11ff-473c-8e8a-5e8f7938554a HTTP/1.1\u001b[0m\" 200 -\n",
      "127.0.0.1 - - [01/Jul/2021 10:24:27] \"\u001b[37mGET /_alive_fc103718-11ff-473c-8e8a-5e8f7938554a HTTP/1.1\u001b[0m\" 200 -\n",
      "127.0.0.1 - - [01/Jul/2021 10:24:27] \"\u001b[37mGET /_alive_fc103718-11ff-473c-8e8a-5e8f7938554a HTTP/1.1\u001b[0m\" 200 -\n",
      "127.0.0.1 - - [01/Jul/2021 10:24:28] \"\u001b[37mGET /_alive_fc103718-11ff-473c-8e8a-5e8f7938554a HTTP/1.1\u001b[0m\" 200 -\n",
      "127.0.0.1 - - [01/Jul/2021 10:24:28] \"\u001b[37mGET /_alive_fc103718-11ff-473c-8e8a-5e8f7938554a HTTP/1.1\u001b[0m\" 200 -\n",
      "127.0.0.1 - - [01/Jul/2021 10:24:29] \"\u001b[37mGET /_alive_fc103718-11ff-473c-8e8a-5e8f7938554a HTTP/1.1\u001b[0m\" 200 -\n",
      "127.0.0.1 - - [01/Jul/2021 10:24:30] \"\u001b[37mGET /_alive_fc103718-11ff-473c-8e8a-5e8f7938554a HTTP/1.1\u001b[0m\" 200 -\n",
      "127.0.0.1 - - [01/Jul/2021 10:24:31] \"\u001b[37mGET /_alive_fc103718-11ff-473c-8e8a-5e8f7938554a HTTP/1.1\u001b[0m\" 200 -\n",
      "127.0.0.1 - - [01/Jul/2021 10:24:32] \"\u001b[37mGET /_alive_fc103718-11ff-473c-8e8a-5e8f7938554a HTTP/1.1\u001b[0m\" 200 -\n",
      "127.0.0.1 - - [01/Jul/2021 10:24:33] \"\u001b[37mGET /_alive_fc103718-11ff-473c-8e8a-5e8f7938554a HTTP/1.1\u001b[0m\" 200 -\n",
      "127.0.0.1 - - [01/Jul/2021 10:24:34] \"\u001b[37mGET /_alive_fc103718-11ff-473c-8e8a-5e8f7938554a HTTP/1.1\u001b[0m\" 200 -\n",
      "127.0.0.1 - - [01/Jul/2021 10:24:35] \"\u001b[37mGET /_alive_fc103718-11ff-473c-8e8a-5e8f7938554a HTTP/1.1\u001b[0m\" 200 -\n",
      "127.0.0.1 - - [01/Jul/2021 10:24:36] \"\u001b[37mGET /_alive_fc103718-11ff-473c-8e8a-5e8f7938554a HTTP/1.1\u001b[0m\" 200 -\n",
      "127.0.0.1 - - [01/Jul/2021 10:24:37] \"\u001b[37mGET /_alive_fc103718-11ff-473c-8e8a-5e8f7938554a HTTP/1.1\u001b[0m\" 200 -\n",
      "127.0.0.1 - - [01/Jul/2021 10:24:39] \"\u001b[37mGET / HTTP/1.1\u001b[0m\" 200 -\n",
      "127.0.0.1 - - [01/Jul/2021 10:24:39] \"\u001b[37mGET /_dash-layout HTTP/1.1\u001b[0m\" 200 -\n",
      "127.0.0.1 - - [01/Jul/2021 10:24:39] \"\u001b[37mGET /_dash-dependencies HTTP/1.1\u001b[0m\" 200 -\n"
     ]
    }
   ],
   "source": [
    "if __name__ == '__main__':\n",
    "    app.run_server()"
   ]
  },
  {
   "cell_type": "code",
   "execution_count": null,
   "metadata": {},
   "outputs": [],
   "source": []
  }
 ],
 "metadata": {
  "kernelspec": {
   "display_name": "Python 3",
   "language": "python",
   "name": "python3"
  },
  "language_info": {
   "codemirror_mode": {
    "name": "ipython",
    "version": 3
   },
   "file_extension": ".py",
   "mimetype": "text/x-python",
   "name": "python",
   "nbconvert_exporter": "python",
   "pygments_lexer": "ipython3",
   "version": "3.8.5"
  }
 },
 "nbformat": 4,
 "nbformat_minor": 4
}
